{
  "cells": [
    {
      "cell_type": "code",
      "execution_count": null,
      "metadata": {},
      "outputs": [],
      "source": [
        "import pandas as pd\n",
        "import numpy as np\n",
        "import nibabel as nib"
      ]
    },
    {
      "cell_type": "code",
      "execution_count": null,
      "metadata": {},
      "outputs": [],
      "source": [
        "def extract_features(map_file, atlas_file, atlas_labels_file, measure_method='mean'):\n",
        "    \"\"\"\n",
        "    Extract feature values for each area in the brain atlas.\n",
        "    \"\"\"\n",
        "    # Load the map\n",
        "    map_img = nib.load(map_file)\n",
        "    map_data = map_img.get_fdata()\n",
        "    \n",
        "    # Load the atlas\n",
        "    atlas_img = nib.load(atlas_file)\n",
        "    atlas_data = atlas_img.get_fdata()\n",
        "    \n",
        "    # Load the atlas labels\n",
        "    atlas_labels = pd.read_csv(atlas_labels_file)\n",
        "    \n",
        "    # Create a dictionary to store feature values\n",
        "    feature_values = {}\n",
        "\n",
        "    # Select the appropriate measurement function\n",
        "    if measure_method == 'mean':\n",
        "        measure_func = np.mean\n",
        "    elif measure_method == 'sum':\n",
        "        measure_func = np.sum\n",
        "    elif measure_method == 'median':\n",
        "        measure_func = np.median\n",
        "    elif measure_method == 'max':\n",
        "        measure_func = np.max\n",
        "    elif measure_method == 'min':\n",
        "        measure_func = np.min\n",
        "    elif measure_method == 'std':\n",
        "        measure_func = np.std\n",
        "    else:\n",
        "        raise ValueError(f\"Unknown measure method: {measure_method}\")\n",
        "\n",
        "    # For each area in the atlas, extract the corresponding feature values\n",
        "    for _, row in atlas_labels.iterrows():\n",
        "        label = row['Label']\n",
        "        name = row['Name']\n",
        "        \n",
        "        # Create binary mask for current rarea\n",
        "        area_mask = (atlas_data == label)\n",
        "        \n",
        "        # Extract feature values for the area\n",
        "        area_feature_values = map_data[area_mask]\n",
        "        \n",
        "        # Calculate summary value for the area (if the area exists in the mask)\n",
        "        if area_feature_values.size > 0:\n",
        "            feature_values[name] = measure_func(area_feature_values)\n",
        "        else:\n",
        "            feature_values[name] = np.nan\n",
        "    \n",
        "    # Convert to DataFrame\n",
        "    features_df = pd.DataFrame([feature_values])\n",
        "    \n",
        "    return features_df"
      ]
    },
    {
      "cell_type": "code",
      "execution_count": null,
      "metadata": {},
      "outputs": [],
      "source": [
        "# Paths to the files\n",
        "map_file = \"GM.nii\"\n",
        "atlas_file = \"Hammers_60.nii\"\n",
        "atlas_labels_file = \"Hammers_60.csv\"\n",
        "output_file = \"sMRI_Features.csv\"\n",
        "\n",
        "# Single subject processing\n",
        "features_df = extract_features(map_file, atlas_file, atlas_labels_file, measure_method='sum')\n",
        "features_df.to_csv(output_file, index=False)\n",
        "print(f\"Successfully saved results to {output_file}\")"
      ]
    }
  ],
  "metadata": {
    "kernelspec": {
      "display_name": "Anonymous",
      "language": "python",
      "name": "python3"
    },
    "language_info": {
      "codemirror_mode": {
        "name": "ipython",
        "version": 3
      },
      "file_extension": ".py",
      "mimetype": "text/x-python",
      "name": "python",
      "nbconvert_exporter": "python",
      "pygments_lexer": "ipython3",
      "version": "3.11.9"
    }
  },
  "nbformat": 4,
  "nbformat_minor": 2
}